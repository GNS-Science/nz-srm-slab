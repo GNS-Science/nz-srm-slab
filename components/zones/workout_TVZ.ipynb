{
 "cells": [
  {
   "cell_type": "code",
   "execution_count": 5,
   "id": "e9225740",
   "metadata": {},
   "outputs": [],
   "source": [
    "import json\n",
    "import matplotlib.pyplot as plt\n",
    "\n",
    "import sys\n",
    "# insert at 1, 0 is the script path (or '' in REPL)\n",
    "sys.path.insert(1, '/home/kirant/thinglap/NSHM-projects/nz-oq-distr-seismicity/')\n",
    "\n",
    "import grids.grids as grids\n",
    "import zones.tzones as zones"
   ]
  },
  {
   "cell_type": "markdown",
   "id": "b7fe4682",
   "metadata": {},
   "source": [
    "###  two zones: TVZ and sanTVZ (other than TVZ) \n",
    "\n",
    "Additionally, there are interface and slab zones. These are tackled elsewhere"
   ]
  },
  {
   "cell_type": "code",
   "execution_count": 7,
   "id": "826dd630",
   "metadata": {},
   "outputs": [
    {
     "data": {
      "text/plain": [
       "(True, <shapely.geometry.polygon.Polygon at 0x7f31586e6850>)"
      ]
     },
     "execution_count": 7,
     "metadata": {},
     "output_type": "execute_result"
    }
   ],
   "source": [
    "lon = 176.5\n",
    "lat = -38.0\n",
    "tvzbounds = zones.iswithinTVZ(0, 0)\n",
    "istvz = zones.iswithinTVZ(lon, lat)\n",
    "istvz"
   ]
  },
  {
   "cell_type": "code",
   "execution_count": null,
   "id": "206bc1cf",
   "metadata": {},
   "outputs": [],
   "source": [
    "glon, glat = grids.get_sample_grid(file = '../grids/samplegrid.txt')"
   ]
  },
  {
   "cell_type": "code",
   "execution_count": null,
   "id": "a6d7ec88",
   "metadata": {},
   "outputs": [],
   "source": [
    "#plt.plot(glon, glat, 'o');\n",
    "tvzbounds = zones.iswithinTVZ(0, 0)\n",
    "\n",
    "for lon, lat in zip(glon, glat):\n",
    "    if zones.iswithinTVZ(lon, lat, tvzbounds=tvzbounds):\n",
    "       # plt.plot(lon, lat, 'ro')\n",
    "        pass\n",
    "    else:\n",
    "      #  plt.plot(lon, lat, 'bo')\n",
    "        pass"
   ]
  },
  {
   "cell_type": "code",
   "execution_count": null,
   "id": "3cd216e3",
   "metadata": {},
   "outputs": [],
   "source": [
    "tvzbounds = zones.iswithinTVZ(0, 0)\n",
    "for lon, lat in zip(glon, glat):\n",
    "    if zones.iswithinTVZ(lon, lat, tvzbounds=tvzbounds):\n",
    "        # if it is within TVZ\n",
    "        plt.plot(lon, lat, 'ro')\n",
    "    else:\n",
    "        plt.plot(lon, lat, 'bo')\n",
    "        "
   ]
  },
  {
   "cell_type": "code",
   "execution_count": null,
   "id": "3c5565fb",
   "metadata": {},
   "outputs": [],
   "source": []
  }
 ],
 "metadata": {
  "kernelspec": {
   "display_name": "Python 3 (ipykernel)",
   "language": "python",
   "name": "python3"
  },
  "language_info": {
   "codemirror_mode": {
    "name": "ipython",
    "version": 3
   },
   "file_extension": ".py",
   "mimetype": "text/x-python",
   "name": "python",
   "nbconvert_exporter": "python",
   "pygments_lexer": "ipython3",
   "version": "3.8.12"
  }
 },
 "nbformat": 4,
 "nbformat_minor": 5
}
