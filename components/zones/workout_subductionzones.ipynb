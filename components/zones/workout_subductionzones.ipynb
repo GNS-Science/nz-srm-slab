{
 "cells": [
  {
   "cell_type": "code",
   "execution_count": 1,
   "id": "15f9528c",
   "metadata": {},
   "outputs": [],
   "source": [
    "import matplotlib.pyplot as plt\n",
    "import csv\n",
    "import sys\n",
    "sys.path.insert(1, '/home/kirant/thinglap/NSHM-projects/distr-seismicity-models')\n",
    "import grids.grids as grids\n",
    "import zones as zones"
   ]
  },
  {
   "cell_type": "markdown",
   "id": "f27a4b11",
   "metadata": {},
   "source": [
    "### Determine if a given point (lon, lat, dep) is within slab or interface. \n",
    "\n",
    "\n",
    "The idea would be:  <br/>\n",
    "(1) is depth is surely crustal?  <br/>\n",
    "(1) Is longitude and latitude within bounds of subduction zone,  <br/>\n",
    "(2) If so, is the depth wthin slab, and if not, interface "
   ]
  },
  {
   "cell_type": "code",
   "execution_count": 1,
   "id": "beb6321d",
   "metadata": {},
   "outputs": [],
   "source": [
    "# a test addition - \n",
    "\n",
    "def read_interfacemodel(subduction):\n",
    "    if subduction =='hik':\n",
    "        interface_model = '../subduction/hikinterfacegrid.csv'\n",
    "    elif subduction == 'puy':\n",
    "        interface_model = '../subduction/puyinterfacegrid.csv'\n",
    "    depth_cutoff = 40\n",
    "    \n",
    "    slon, slat, sdep = ([],[],[])\n",
    "    with open(interface_model, 'r') as file:\n",
    "        csvreader = csv.reader(file)\n",
    "        header = next(csvreader)\n",
    "        header = next(csvreader)\n",
    "        for row in csvreader:\n",
    "            if (float(row[2])< depth_cutoff):\n",
    "                slon.append(float(row[0]))\n",
    "                slat.append(float(row[1]))\n",
    "                sdep.append(float(row[2]))\n",
    "    return slon, slat, sdep"
   ]
  },
  {
   "cell_type": "code",
   "execution_count": 2,
   "id": "20dc97e2",
   "metadata": {},
   "outputs": [],
   "source": [
    "from scipy.interpolate import interp2d\n",
    "import numpy as np\n",
    "import kpolygon.polygon as poly\n",
    "\n",
    "def interface_depth_function(interface_model=None):\n",
    "    if interface_model is None:\n",
    "        interface_model = '../subduction/hikinterfacegrid.csv'\n",
    "\n",
    "    depth_cutoff = 40\n",
    "    \n",
    "    slon, slat, sdep = ([],[],[])\n",
    "    with open(interface_model, 'r') as file:\n",
    "        csvreader = csv.reader(file)\n",
    "        header = next(csvreader)\n",
    "        header = next(csvreader)\n",
    "        for row in csvreader:\n",
    "            if (float(row[2])< depth_cutoff):\n",
    "                slon.append(float(row[0]))\n",
    "                slat.append(float(row[1]))\n",
    "                sdep.append(float(row[2]))\n",
    "            \n",
    "    fintp = interp2d(np.array(slon), np.array(slat), np.array(sdep), kind='linear')\n",
    "    blon, blat = poly.boundary(slon, slat)\n",
    "    return(fintp, (blon, blat))\n"
   ]
  },
  {
   "cell_type": "code",
   "execution_count": 19,
   "id": "a37e2750",
   "metadata": {},
   "outputs": [],
   "source": [
    "def interface_config(subduction='hik'):\n",
    "    # retrun depth function (interpolation) and polygon bounds\n",
    "    if subduction=='hik':\n",
    "        ifmodel = '../subduction/hikinterfacegrid.csv'\n",
    "    elif subduction=='puy':\n",
    "        ifmodel = '../subduction/puyinterfacegrid.csv'\n",
    "    else:\n",
    "        print(\"subduction not found!\")\n",
    "        return None, None\n",
    "    \n",
    "    fintp, ifbounds = interface_depth_function(interface_model=ifmodel)\n",
    "    blon, blat = ifbounds\n",
    "    pbounds = zones.get_boundpolygon(blon, blat)\n",
    "    \n",
    "    return fintp, pbounds\n",
    "\n",
    "#\n",
    "def get_interface_configs():\n",
    "    interface_configs = {}\n",
    "    fintp, pbounds =  interface_config('hik')\n",
    "    interface_configs.update({'hik': {'fintp': fintp, 'pbounds': pbounds}})\n",
    "    fintp, pbounds =  interface_config('puy')\n",
    "    interface_configs.update({'puy': {'fintp': fintp, 'pbounds': pbounds}})\n",
    "    return interface_configs\n",
    "\n",
    "#\n",
    "def get_regime(lon, lat, dep, fintp, pbounds, interface_buffer):\n",
    "    if not zones.is_within_zone(lon, lat, pbounds):\n",
    "        regime = 0\n",
    "    else:\n",
    "        pdep = fintp(lon, lat)\n",
    "        # check whether interface\n",
    "        if (dep<(pdep-interface_buffer[0])):\n",
    "            regime = 1\n",
    "        elif (dep<=(pdep+interface_buffer[1])):\n",
    "            regime = 2\n",
    "        else:\n",
    "            regime = 3\n",
    "            \n",
    "    return regime\n",
    "\n",
    "#\n",
    "def get_nzregime(lon, lat, dep, interface_configs = None, interface_buffer = [5,5]):\n",
    "    # interface_configs is a dictionary of \n",
    "    # depth function (interpolation) and polygon bounds\n",
    "    # regime = 0 for shallow crust (outside subduction), 1 for crust above subduction\n",
    "    # 2 for interface and 3 for slab\n",
    "    # first check is within bounds\n",
    "    \n",
    "    if interface_configs is None:\n",
    "        interface_configs = get_interface_configs()\n",
    "        return interface_configs\n",
    "    \n",
    "    regime = 0\n",
    "    interface = [k for k in interface_configs.keys()]\n",
    "    #\n",
    "    fintp = interface_configs[interface[0]]['fintp']\n",
    "    pbounds = interface_configs[interface[0]]['pbounds']\n",
    "    regime = get_regime(lon, lat, dep, fintp, pbounds, interface_buffer)\n",
    "    \n",
    "    if regime == 0:\n",
    "        fintp = interface_configs[interface[1]]['fintp']\n",
    "        pbounds = interface_configs[interface[1]]['pbounds']\n",
    "        regime = get_regime(lon, lat, dep, fintp, pbounds, interface_buffer)\n",
    "    # first check hik\n",
    "    return regime\n",
    "    "
   ]
  },
  {
   "cell_type": "code",
   "execution_count": 22,
   "id": "2a75cc8b",
   "metadata": {},
   "outputs": [
    {
     "data": {
      "image/png": "[encoded data removed]",
      "text/plain": [
       "<Figure size 432x288 with 2 Axes>"
      ]
     },
     "metadata": {
      "needs_background": "light"
     },
     "output_type": "display_data"
    }
   ],
   "source": [
    "# test\n",
    "glon, glat = grids.get_sample_grid(file = '../grids/samplegrid.txt')\n",
    "gdep = [15]*len(glon)\n",
    "\n",
    "interface_configs = get_interface_configs()\n",
    "regime = []\n",
    "for i in range(len(glon)):\n",
    "    glon[i], glat[i]\n",
    "    rgm = get_nzregime(glon[i], glat[i], gdep[i], \\\n",
    "                          interface_configs = interface_configs)\n",
    "    regime.append(rgm)\n",
    "\n",
    "plt.scatter(glon, glat, c=regime)\n",
    "plt.colorbar();"
   ]
  },
  {
   "cell_type": "code",
   "execution_count": null,
   "id": "aaf220a0",
   "metadata": {},
   "outputs": [],
   "source": []
  }
 ],
 "metadata": {
  "kernelspec": {
   "display_name": "Python 3 (ipykernel)",
   "language": "python",
   "name": "python3"
  },
  "language_info": {
   "codemirror_mode": {
    "name": "ipython",
    "version": 3
   },
   "file_extension": ".py",
   "mimetype": "text/x-python",
   "name": "python",
   "nbconvert_exporter": "python",
   "pygments_lexer": "ipython3",
   "version": "3.8.12"
  }
 },
 "nbformat": 4,
 "nbformat_minor": 5
}
