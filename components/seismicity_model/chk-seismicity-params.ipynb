{
 "cells": [
  {
   "cell_type": "code",
   "execution_count": 1,
   "id": "a9d2f20f",
   "metadata": {},
   "outputs": [],
   "source": [
    "import numpy as np\n",
    "import matplotlib.pyplot as plt"
   ]
  },
  {
   "cell_type": "code",
   "execution_count": 8,
   "id": "aeeae074",
   "metadata": {},
   "outputs": [],
   "source": [
    "def get_modetext(szone, i):\n",
    "    #\n",
    "    grparams = {}\n",
    "    seismod = ['empb', 'fixb']\n",
    "    grparams.update({'hik': {'bvalue': [1.06, 1.0], 'avalue':[6.07, 5.75]}})\n",
    "    grparams.update({'puy': {'bvalue': [1.15, 1.0], 'avalue':[5.55, 4.82]}})\n",
    "\n",
    "    # candidate = [b, M, N(m>=M), N(m=M)]\n",
    "    bval = grparams[szone]['bvalue'][i]\n",
    "    aval = grparams[szone]['avalue'][i]\n",
    "    N5cum = 10**(aval-bval*5.0)          \n",
    "    #N*10^(b*0.05) - N*10^(-b*0.05) \n",
    "    N5inc = N5cum*(10**(bval*0.05)) - N5cum*(10**(-bval*0.05))\n",
    "\n",
    "    strlab = '%s = [%.2f, 5.0, %.2f, %.2f]' %(seismod[i], bval,N5cum, N5inc)\n",
    "    print(strlab)\n"
   ]
  },
  {
   "cell_type": "code",
   "execution_count": 9,
   "id": "3286600b",
   "metadata": {},
   "outputs": [
    {
     "name": "stdout",
     "output_type": "stream",
     "text": [
      "[hikurangi]\n",
      "empb = [1.06, 5.0, 5.89, 1.44]\n",
      "fixb = [1.00, 5.0, 5.62, 1.30]\n",
      "pref_candidate = 'fixb'\n",
      "\n",
      "[puysegur]\n",
      "empb = [1.15, 5.0, 0.63, 0.17]\n",
      "fixb = [1.00, 5.0, 0.66, 0.15]\n",
      "pref_candidate = 'fixb'\n"
     ]
    }
   ],
   "source": [
    "seismod = ['empb', 'fixb']\n",
    "print('[hikurangi]')\n",
    "szone = 'hik'       \n",
    "get_modetext(szone, i=0)\n",
    "get_modetext(szone, i=1)\n",
    "print(\"pref_candidate = '%s'\\n\" %seismod[1])\n",
    "\n",
    "print('[puysegur]')\n",
    "szone = 'puy'       \n",
    "get_modetext(szone, i=0)\n",
    "get_modetext(szone, i=1)\n",
    "print(\"pref_candidate = '%s'\" %seismod[1])"
   ]
  },
  {
   "cell_type": "code",
   "execution_count": null,
   "id": "727bc78c",
   "metadata": {},
   "outputs": [],
   "source": []
  }
 ],
 "metadata": {
  "kernelspec": {
   "display_name": "Python 3 (ipykernel)",
   "language": "python",
   "name": "python3"
  },
  "language_info": {
   "codemirror_mode": {
    "name": "ipython",
    "version": 3
   },
   "file_extension": ".py",
   "mimetype": "text/x-python",
   "name": "python",
   "nbconvert_exporter": "python",
   "pygments_lexer": "ipython3",
   "version": "3.8.12"
  }
 },
 "nbformat": 4,
 "nbformat_minor": 5
}
