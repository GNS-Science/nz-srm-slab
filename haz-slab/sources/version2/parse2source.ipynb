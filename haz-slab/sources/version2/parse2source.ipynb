{
 "cells": [
  {
   "cell_type": "code",
   "execution_count": 1,
   "id": "6142d1bd",
   "metadata": {},
   "outputs": [],
   "source": [
    "# parse xml file\n",
    "import xml.etree.ElementTree as ET"
   ]
  },
  {
   "cell_type": "code",
   "execution_count": 2,
   "id": "8245ef29",
   "metadata": {},
   "outputs": [
    {
     "name": "stdout",
     "output_type": "stream",
     "text": [
      "{'probability': '0.36', 'strike': '230.0', 'dip': '57.0', 'rake': '275.7'}\n"
     ]
    }
   ],
   "source": [
    "import xml.etree.ElementTree as ET\n",
    "xmlfile = 'slab-uniform-1depth-rates.xml'\n",
    "root = ET.parse(xmlfile).getroot()\n",
    "lon, lat, dep, upseis, lowseis = [], [], [], [], []\n",
    "Nc5 = []\n",
    "nodalplanedist = []\n",
    "\n",
    "gml = '{http://openquake.org/xmlns/nrml/0.4}'\n",
    "\n",
    "for elem in root:\n",
    "     for pointsource in elem:\n",
    "        # print(a.tag.title(), a.attrib.get('name', a.text))\n",
    "        if (pointsource.attrib['tectonicRegion'])!='Subduction Intraslab':\n",
    "            print('erroneous tectonic region')\n",
    "        #print(list(pointsource))\n",
    "        for item in list(pointsource):\n",
    "            # print(list(item))\n",
    "            for entry in list(item):\n",
    "                if entry.tag == '{http://www.opengis.net/gml}'+'Point':\n",
    "                    #  print('here')\n",
    "                    for pos in entry:\n",
    "                        lonlat = pos.text.split(' ')\n",
    "                        lon.append(float(lonlat[0]))\n",
    "                        lat.append(float(lonlat[1]))\n",
    "                if entry.tag == gml+'upperSeismoDepth':\n",
    "                    upseis.append(float(entry.text))\n",
    "                if entry.tag == gml+'lowerSeismoDepth':\n",
    "                    lowseis.append(float(entry.text))\n",
    "            if item.tag == gml+'hypoDepthDist':\n",
    "                for hypo in item:\n",
    "                    dep.append(float(hypo.attrib['depth']))\n",
    "            if item.tag == gml+'nodalPlaneDist':\n",
    "                psdr = []\n",
    "                for xxx in item:\n",
    "                    psdr.append(xxx.attrib) \n",
    "                nodalplanedist.append(psdr)\n",
    "           \n",
    "            if item.tag == gml+'truncGutenbergRichterMFD':\n",
    "                if item.attrib['minMag'] == '5.0':\n",
    "                    avalue = float(item.attrib['aValue'])\n",
    "                    bvalue = float(item.attrib['bValue'])\n",
    "                    log10Ns = avalue - bvalue*5.0;\n",
    "                    Ns = 10**log10Ns\n",
    "                    Nc5.append(Ns)\n",
    "# correct lon --\n",
    "xlon = []\n",
    "for x in lon:\n",
    "    if x<0:\n",
    "        xlon.append(360+x)\n",
    "    else:\n",
    "        xlon.append(x)\n",
    "                    \n",
    "# what do we have\n",
    "#lon, lat, dep, upseis, lowseis = [], [], [], [], []\n",
    "#Nc5 = [], nodalplanedist = []\n",
    "klon, klat, kdep, kUppers, kLowers, knodalplanes = [],[],[],[],[],[]\n",
    "\n",
    "for i, x in enumerate(xlon):\n",
    "    if lat[i]< -43.0: # take only hikurangi eh!\n",
    "        continue\n",
    "    klon.append(xlon[i])\n",
    "    klat.append(lat[i])\n",
    "    kdep.append(dep[i])\n",
    "    kUppers.append(upseis[i])\n",
    "    kLowers.append(lowseis[i])\n",
    "    knodalplanes.append(nodalplanedist[i])\n",
    "\n",
    "print(knodalplanes[1][1])"
   ]
  },
  {
   "cell_type": "code",
   "execution_count": 3,
   "id": "6e5e8705",
   "metadata": {},
   "outputs": [
    {
     "data": {
      "image/png": "[encoded data removed]",
      "text/plain": [
       "<Figure size 432x288 with 1 Axes>"
      ]
     },
     "metadata": {
      "needs_background": "light"
     },
     "output_type": "display_data"
    }
   ],
   "source": [
    "import reckoner as rkn\n",
    "import numpy as np\n",
    "import matplotlib.pyplot as plt\n",
    "\n",
    "# scaling relation\n",
    "def mag2Area(mag):\n",
    "    return 10**(mag-4.15)\n",
    "mag = 8.0\n",
    "# rupture dimns -----------------------------\n",
    "A = mag2Area(mag)\n",
    "clon, clat = [],[]\n",
    "xr, yr, zr = [],[],[]\n",
    "for i, x in enumerate(klon):\n",
    "    Hseis = kLowers[i]-kUppers[i]\n",
    "    W = round(np.sqrt(A))\n",
    "    \n",
    "    # lets pick the middle nodalplane\n",
    "    psdr = knodalplanes[i][1]\n",
    "    strike = float(psdr['strike'])\n",
    "    dip = float(psdr['dip'])\n",
    "    \n",
    "    # Hseis, dip, strike\n",
    "    W_max = Hseis/np.sin(np.deg2rad(dip)) \n",
    "    if W>W_max:\n",
    "        W = W_max    \n",
    "    L = round(A/W)\n",
    "    # let's see -----------------------------------\n",
    "    xh = (W/2)*np.sin(np.deg2rad(dip))\n",
    "    ztop = kdep[i]-xh\n",
    "    if ztop<20:\n",
    "        ztop = 20\n",
    "    xh = kdep[i]-ztop\n",
    "    sx = xh/np.tan(np.deg2rad(dip))\n",
    "    clonlat = rkn.reckon(klon[i],klat[i],sx,strike-90)\n",
    "    clon.append(clonlat[0])\n",
    "    clat.append(clonlat[1])\n",
    "    \n",
    "N = len(klon)\n",
    "for i in range(0,N,15):\n",
    "    plt.plot(klon[i], klat[i], 'b.')\n",
    "    plt.plot(clon[i], clat[i], 'r.')"
   ]
  },
  {
   "cell_type": "code",
   "execution_count": 4,
   "id": "01de92f8",
   "metadata": {},
   "outputs": [
    {
     "ename": "IndentationError",
     "evalue": "expected an indented block (3097120194.py, line 11)",
     "output_type": "error",
     "traceback": [
      "\u001b[0;36m  Input \u001b[0;32mIn [4]\u001b[0;36m\u001b[0m\n\u001b[0;31m    depth = 38.472\u001b[0m\n\u001b[0m    ^\u001b[0m\n\u001b[0;31mIndentationError\u001b[0m\u001b[0;31m:\u001b[0m expected an indented block\n"
     ]
    }
   ],
   "source": [
    "# given a hypo, seismogenic volume, rupture length, rupture width\n",
    "import reckoner as rkn\n",
    "import numpy as np\n",
    "\n",
    "mag = 8.0\n",
    "uppers = 20\n",
    "lowers = 80\n",
    "\n",
    "\n",
    "for x, y in zip(lon, lat):\n",
    "depth = 38.472\n",
    "strike = 219 \n",
    "dip = 59.0\n",
    "rake = -90\n",
    "hdepth = 37\n",
    "Hseis = lowers-uppers\n",
    "\n",
    "\n",
    "\n",
    "\n",
    "\n",
    "# let's see -----------------------------------\n",
    "xh = (W/2)*np.sin(np.deg2rad(dip))\n",
    "ztop = hdepth-xh\n",
    "\n",
    "if ztop<20:\n",
    "    ztop = 20\n",
    "xh = hdepth-ztop\n",
    "sx = xh/np.tan(np.deg2rad(dip))\n",
    "\n",
    "\n",
    "\n",
    "newlonlat = rkn.reckon(lon,lat,sx,strike-90)\n",
    "\n",
    "plt.plot(lon, lat, 'bo')\n",
    "plt.plot(newlonlat[0], newlonlat[1], 'ro')\n",
    "\n",
    "x = [1, 5, 6, 3, 1]\n",
    "y = [2, 3, 5, 4, 2]\n",
    "z = [2, 2, 10, 10, 2]\n",
    "\n",
    "fig = plt.figure(figsize=(4,4))\n",
    "ax = fig.add_subplot(111, projection='3d')\n",
    "#\n",
    "ax.plot(x,y,z, 'c-');\n"
   ]
  },
  {
   "cell_type": "code",
   "execution_count": null,
   "id": "aecccb06",
   "metadata": {},
   "outputs": [],
   "source": [
    "fig, ax = plt.subplots(figsize=(9,8))\n",
    "\n",
    "for i in enumerate(xlon):\n",
    "    ax.\n",
    "sc = ax.scatter(xlon, lat, c=dep)\n",
    "\n",
    "\n",
    "ax.set_xlim([163, 182])\n",
    "ax.set_ylim([-50, -34])\n",
    "ax.set_title('hypocenter depth')\n",
    "nzb.plot(file='nzborders.json',plinewidth= 0.2, pcolor = 'b', ax=ax)\n",
    "fig.colorbar(sc, ax=ax);\n",
    "plt.show()\n"
   ]
  },
  {
   "cell_type": "code",
   "execution_count": null,
   "id": "c60c1306",
   "metadata": {},
   "outputs": [],
   "source": [
    "#{'probability': '0.32', 'strike': '173', 'dip': '59.0', 'rake': '-90'}\n",
    "\n",
    "import numpy as np\n",
    "deg2km = 111.19492664455873\n",
    "km2deg = 0.008993216059187306\n",
    "\n",
    "# scaling relation\n",
    "def mag2Area(mag):\n",
    "    return 10**(mag-4.15)\n",
    "\n",
    "Hseis = 60\n",
    "A = mag2Area(8.0)\n",
    "dipAn = 60\n",
    "\n",
    "RW_max = Hseis/np.sin(np.deg2rad(dipAn)) \n",
    "L = round(A/RW_max)\n",
    "\n",
    "print(A, RW_max, L)"
   ]
  }
 ],
 "metadata": {
  "kernelspec": {
   "display_name": "Python 3 (ipykernel)",
   "language": "python",
   "name": "python3"
  },
  "language_info": {
   "codemirror_mode": {
    "name": "ipython",
    "version": 3
   },
   "file_extension": ".py",
   "mimetype": "text/x-python",
   "name": "python",
   "nbconvert_exporter": "python",
   "pygments_lexer": "ipython3",
   "version": "3.8.12"
  }
 },
 "nbformat": 4,
 "nbformat_minor": 5
}
