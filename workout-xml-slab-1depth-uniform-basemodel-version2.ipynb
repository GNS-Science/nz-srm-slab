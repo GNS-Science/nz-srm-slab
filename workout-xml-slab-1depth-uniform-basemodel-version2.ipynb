{
 "cells": [
  {
   "cell_type": "code",
   "execution_count": 1,
   "id": "d408dd03",
   "metadata": {},
   "outputs": [],
   "source": [
    "import time\n",
    "import toml\n",
    "import slab2xmlwriter as slabxmlw"
   ]
  },
  {
   "cell_type": "code",
   "execution_count": 2,
   "id": "7ba93c9e",
   "metadata": {},
   "outputs": [
    {
     "data": {
      "application/javascript": [
       "IPython.OutputArea.prototype._should_scroll = function(lines) {\n",
       "    return false;\n",
       "};\n"
      ],
      "text/plain": [
       "<IPython.core.display.Javascript object>"
      ]
     },
     "metadata": {},
     "output_type": "display_data"
    }
   ],
   "source": [
    "%%javascript\n",
    "IPython.OutputArea.prototype._should_scroll = function(lines) {\n",
    "    return false;\n",
    "};"
   ]
  },
  {
   "cell_type": "code",
   "execution_count": 3,
   "id": "91391aa3",
   "metadata": {},
   "outputs": [],
   "source": [
    "# we load a default configurations of the module as a dictionary. \n",
    "# one can change the configuraton as necesary.  For example, the following\n",
    "# can be used to change the rate file and set an output folder. \n",
    "#\n",
    "# configurations = xmlw.load_modules()\n",
    "# xmlw.change_ratemodel(configurations, ratemodel_file, output_flag, output_folder='')\n",
    "#"
   ]
  },
  {
   "cell_type": "code",
   "execution_count": null,
   "id": "f083d7e4",
   "metadata": {},
   "outputs": [],
   "source": [
    "# This notebook generated the final xml used in NZHSM2022"
   ]
  },
  {
   "cell_type": "code",
   "execution_count": 4,
   "id": "367b0e53",
   "metadata": {},
   "outputs": [
    {
     "name": "stdout",
     "output_type": "stream",
     "text": [
      "\n",
      ">>> CONFIG FILE written: haz-slab/sources/version2/slab-uniform-1depth-rates.ini\n",
      "\n",
      "generating SLAB xmls \n",
      "--- Working on components/spatial_distribution/files/processed-uniform/hik-slab-uniform_1depth.csv ----\n",
      "--- Working on components/spatial_distribution/files/processed-uniform/puy-slab-uniform_1depth.csv ----\n",
      ">>> FILE written : haz-slab/sources/version2/slab-uniform-1depth-rates.xml\n"
     ]
    }
   ],
   "source": [
    "output_folder = 'haz-slab/sources/version2/'\n",
    "#\n",
    "outfile = 'slab-uniform-1depth-rates'\n",
    "t = time.time()\n",
    "write_config = True\n",
    "configurations = slabxmlw.load_slabmodules()\n",
    "flist = ['components/spatial_distribution/files/processed-uniform/hik-slab-uniform_1depth.csv',]\n",
    "configurations['rates_model']['hikurangi']['files'] = flist\n",
    "flist = ['components/spatial_distribution/files/processed-uniform/puy-slab-uniform_1depth.csv',]\n",
    "configurations['rates_model']['puysegur']['files'] = flist\n",
    "if write_config:\n",
    "    config_file_name =  output_folder+outfile + '.ini'\n",
    "    with open(config_file_name, \"w\") as toml_file:\n",
    "        toml.dump(configurations, toml_file)\n",
    "\n",
    "print('\\n>>> CONFIG FILE written: ' + config_file_name)\n",
    "#\n",
    "slabxmlw.writexml(outfile +'.xml', output_folder, config = configurations)"
   ]
  },
  {
   "cell_type": "code",
   "execution_count": null,
   "id": "9ce18770",
   "metadata": {},
   "outputs": [],
   "source": []
  }
 ],
 "metadata": {
  "kernelspec": {
   "display_name": "Python 3 (ipykernel)",
   "language": "python",
   "name": "python3"
  },
  "language_info": {
   "codemirror_mode": {
    "name": "ipython",
    "version": 3
   },
   "file_extension": ".py",
   "mimetype": "text/x-python",
   "name": "python",
   "nbconvert_exporter": "python",
   "pygments_lexer": "ipython3",
   "version": "3.8.12"
  }
 },
 "nbformat": 4,
 "nbformat_minor": 5
}
