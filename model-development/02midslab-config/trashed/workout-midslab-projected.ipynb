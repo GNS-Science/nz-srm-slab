{
 "cells": [
  {
   "cell_type": "code",
   "execution_count": 1,
   "id": "f709599f",
   "metadata": {},
   "outputs": [],
   "source": [
    "import csv\n",
    "import matplotlib.pyplot as plt\n",
    "from shapely.geometry import Polygon, Point\n",
    "import numpy as np\n",
    "import eqcat as eqc\n",
    "import scipy.spatial.distance\n",
    "import time\n",
    "\n",
    "# DO NOT RUN --- UNLESS YOU NEED TO. "
   ]
  },
  {
   "cell_type": "code",
   "execution_count": 2,
   "id": "e8d1a043",
   "metadata": {},
   "outputs": [],
   "source": [
    "def is_within_interfacezone(evlon, evlat, szone):\n",
    "    # test the interpolatiors\n",
    "    if szone=='hik':\n",
    "        finterp = np.load('../1SubductionModel/hik_finterp.npy', allow_pickle=True)[()]\n",
    "    elif szone=='puy':\n",
    "        finterp = np.load('../1SubductionModel/puy_finterp.npy', allow_pickle=True)[()]\n",
    "        \n",
    "    pbounds = finterp['pbounds']\n",
    "    if pbounds.contains(Point(evlon, evlat)):\n",
    "        return True\n",
    "    return False"
   ]
  },
  {
   "cell_type": "code",
   "execution_count": 3,
   "id": "d02c4dd3",
   "metadata": {},
   "outputs": [],
   "source": [
    "def writeout_projmslab(lon, lat, dep, mag, year, szone, fout):\n",
    "    #\n",
    "    # get the earthquake catalogue for hikurangi\n",
    "    qlat, qlon, qdep, qmag, qyear = [],[],[], [], []\n",
    "    for x,y,z, m, yr in zip(lon, lat,dep, mag, year):\n",
    "        if m<3.0:\n",
    "            continue\n",
    "        #if yr<1900:\n",
    "        #    continue\n",
    "        if z>300:\n",
    "            continue\n",
    "        if is_within_interfacezone(x, y, szone):\n",
    "            qlon.append(x)\n",
    "            qlat.append(y)\n",
    "            qdep.append(z)\n",
    "            qmag.append(m)\n",
    "            qyear.append(yr)\n",
    "    \n",
    "    #\n",
    "    if szone =='hik':\n",
    "        imod_highres = '../1SubductionModel/hikmod_highres1.csv'\n",
    "    else:\n",
    "        imod_highres = '../1SubductionModel/puymod_highres1.csv'\n",
    "\n",
    "    interf_rows = []\n",
    "    with open(imod_highres, mode='r') as csv_file:\n",
    "        csv_reader = csv.reader(csv_file, delimiter=',')\n",
    "        next(csv_reader)\n",
    "        for row in csv_reader:\n",
    "            interf_rows.append([float(row[0]), float(row[1]), float(row[2])])\n",
    "    interf_rows = np.array(interf_rows)\n",
    "    for x, y, z, m, yr in zip(qlon, qlat, qdep, qmag, qyear):\n",
    "        # Distance between all pairs of points\n",
    "        d = scipy.spatial.distance.cdist(interf_rows, np.transpose([[x],[y],[z]]))\n",
    "        dmin = min(d)[0]\n",
    "        mindx = np.where(d==dmin)[0]\n",
    "        fout.write('\\n%.4f, %.4f, %.4f, %.4f, %d, %.4f, %.4f, %.4f,' \\\n",
    "               %(x,y, z, m, yr, \\\n",
    "               interf_rows[mindx,0], interf_rows[mindx,1], interf_rows[mindx,2]))\n",
    "        if z < interf_rows[mindx,2]:\n",
    "            fout.write('%.4f'%(-dmin))\n",
    "        else:\n",
    "            fout.write('%.4f'%(dmin))"
   ]
  },
  {
   "cell_type": "code",
   "execution_count": 4,
   "id": "6a0f51d3",
   "metadata": {},
   "outputs": [],
   "source": [
    "catalogues = ['NZeqcat_Rollins13042020-subd-slab.csv',\n",
    "             'Grue_NZeqcat_Rollins13042020SepiShallow_subd-slab.csv',\n",
    "             'Grue_NZeqcat_Rollins13042020SepiDeep-subd-slab.csv',]\n",
    "catalogue_folder = '../2EventClassifcation/'\n",
    "\n",
    "ecat = eqc.read_slabcatalogue(catalogue_folder+catalogues[2], onlyslab=True)\n",
    "lon, lat, mag, dep = ecat['lon'], ecat['lat'], ecat['mag'], ecat['dep']\n",
    "year =  ecat['year']\n",
    "#imod_highres = \"\""
   ]
  },
  {
   "cell_type": "code",
   "execution_count": 5,
   "id": "347d52f4",
   "metadata": {},
   "outputs": [
    {
     "name": "stdout",
     "output_type": "stream",
     "text": [
      "time taken: 4040.41886305809\n"
     ]
    }
   ],
   "source": [
    "fout= open('Grue_NZeqcat_Rollins13042020SepiDeep-subd-slab-projected.csv','w')\n",
    "fout.write('lon,lat, dep, mag, year, slat, slon, sdep, dproj')\n",
    "\n",
    "szone = 'puy'\n",
    "t = time.time()\n",
    "writeout_projmslab(lon, lat, dep, mag, year, szone, fout)\n",
    "\n",
    "szone = 'hik'\n",
    "writeout_projmslab(lon, lat, dep, mag, year, szone, fout)\n",
    "\n",
    "elapsed = time.time() - t\n",
    "print('time taken:', elapsed)\n",
    "\n",
    "fout.close()"
   ]
  },
  {
   "cell_type": "code",
   "execution_count": null,
   "id": "c4330ec1",
   "metadata": {},
   "outputs": [],
   "source": []
  },
  {
   "cell_type": "code",
   "execution_count": null,
   "id": "551589cd",
   "metadata": {},
   "outputs": [],
   "source": []
  }
 ],
 "metadata": {
  "kernelspec": {
   "display_name": "Python 3 (ipykernel)",
   "language": "python",
   "name": "python3"
  },
  "language_info": {
   "codemirror_mode": {
    "name": "ipython",
    "version": 3
   },
   "file_extension": ".py",
   "mimetype": "text/x-python",
   "name": "python",
   "nbconvert_exporter": "python",
   "pygments_lexer": "ipython3",
   "version": "3.8.12"
  }
 },
 "nbformat": 4,
 "nbformat_minor": 5
}
