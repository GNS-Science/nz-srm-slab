{
 "cells": [
  {
   "cell_type": "code",
   "execution_count": 1,
   "id": "1931f68b",
   "metadata": {},
   "outputs": [],
   "source": [
    "import matplotlib.pyplot as plt\n",
    "import numpy as np\n",
    "\n",
    "import os\n",
    "import sys\n",
    "module_path = os.path.abspath(os.path.join('..'))\n",
    "if module_path not in sys.path:\n",
    "    sys.path.append(module_path)\n",
    "    \n",
    "from pyslabgrid import slabgridding as slg\n",
    "from pyslabgrid import mat as mat"
   ]
  },
  {
   "cell_type": "code",
   "execution_count": 1,
   "id": "e9993786",
   "metadata": {},
   "outputs": [
    {
     "data": {
      "application/javascript": [
       "IPython.OutputArea.prototype._should_scroll = function(lines) {\n",
       "    return false;\n",
       "};\n"
      ],
      "text/plain": [
       "<IPython.core.display.Javascript object>"
      ]
     },
     "metadata": {},
     "output_type": "display_data"
    }
   ],
   "source": [
    "%%javascript\n",
    "IPython.OutputArea.prototype._should_scroll = function(lines) {\n",
    "    return false;\n",
    "};"
   ]
  },
  {
   "cell_type": "markdown",
   "id": "9d661e91",
   "metadata": {},
   "source": [
    "### Generate high resolution mid-slab grid for zonation"
   ]
  },
  {
   "cell_type": "code",
   "execution_count": 3,
   "id": "2db0a9d3",
   "metadata": {},
   "outputs": [],
   "source": [
    "def plotXYZ(X,Y,Z, szone):\n",
    "    subdmod =  mat.getdict('../data/subduction_model/subduction_model.mat')\n",
    "    tX = mat.flatten(subdmod[szone]['lon'].tolist())\n",
    "    tY = mat.flatten(subdmod[szone]['lat'].tolist())\n",
    "    tZ = mat.flatten(subdmod[szone]['dep'].tolist())\n",
    "    %matplotlib notebook\n",
    "    fig, ax = plt.subplots(subplot_kw={\"projection\": \"3d\"}, figsize=(6,6))\n",
    "    ax.plot3D(tX, tY, tZ,'.', color='b');\n",
    "        \n",
    "    for x,y,z in zip(X,Y,Z):\n",
    "        ax.plot3D(x, y, z,'-', color='r');\n",
    "    Xt = np.transpose(X).tolist()\n",
    "    Yt = np.transpose(Y).tolist()\n",
    "    Zt = np.transpose(Z).tolist()\n",
    "    for x,y,z in zip(Xt,Yt,Zt):\n",
    "        ax.plot3D(x, y, z,'-', color='r');\n",
    "        \n",
    "    ax.invert_zaxis();\n",
    "    plt.show()"
   ]
  },
  {
   "cell_type": "code",
   "execution_count": 4,
   "id": "86114e39",
   "metadata": {},
   "outputs": [],
   "source": [
    "def generate_highres_midslabgrid(szone, outfile,  dx_km=0.5):\n",
    "    hik_finterp = np.load('pyslabgrid/finterp_slabdeps.npy', allow_pickle=True)[()]\n",
    "    fintp_sheet2 = hik_finterp[szone]['sheet2']\n",
    "    X,Y,Z = slg.compute_slabgrids(szone, fileout=None, dx_km=dx_km, \\\n",
    "                              doplot=False, dep_finterp=fintp_sheet2)\n",
    "    f = open(outfile, 'w')\n",
    "    f.write('lon,lat,dep')\n",
    "    X = mat.flatten(X)\n",
    "    Y = mat.flatten(Y)\n",
    "    Z = mat.flatten(Z)\n",
    "    for x,y,z in zip(X,Y,Z):\n",
    "        f.write('\\n%.4f,%.4f,%.3f' %(x,y,z))\n",
    "    f.close()\n",
    "    print('>>> File written:')\n",
    "    print(outfile)\n",
    "    "
   ]
  },
  {
   "cell_type": "code",
   "execution_count": 5,
   "id": "fef38c03",
   "metadata": {},
   "outputs": [
    {
     "name": "stdout",
     "output_type": "stream",
     "text": [
      ">>> File written:\n",
      "grids/puy-midslab_500m_grid.csv\n",
      ">>> File written:\n",
      "grids/hik-midslab_500m_grid.csv\n"
     ]
    }
   ],
   "source": [
    "szone = 'puy'\n",
    "generate_highres_midslabgrid(szone, 'grids/'+ szone +'-midslab_500m_grid.csv', dx_km=0.5)\n",
    "\n",
    "szone = 'hik'\n",
    "generate_highres_midslabgrid(szone, 'grids/'+ szone + '-midslab_500m_grid.csv', dx_km=0.5)"
   ]
  },
  {
   "cell_type": "code",
   "execution_count": 6,
   "id": "c6e8108d",
   "metadata": {},
   "outputs": [
    {
     "name": "stdout",
     "output_type": "stream",
     "text": [
      ">>> File written:\n",
      "grids/puy-interface_500m_grid.csv\n",
      ">>> File written:\n",
      "grids/hik-interface_500m_grid.csv\n"
     ]
    }
   ],
   "source": [
    "def generate_highres_interface_grid(szone):\n",
    "    fileout='grids/'+ szone +'-interface_500m_grid.csv'\n",
    "    X,Y,Z = slg.compute_slabgrids(szone, fileout=None,\\\n",
    "                              dx_km=0.5, doplot=False)\n",
    "    f = open(fileout, 'w')\n",
    "    f.write('lon,lat,dep')\n",
    "    X = mat.flatten(X)\n",
    "    Y = mat.flatten(Y)\n",
    "    Z = mat.flatten(Z)\n",
    "    for x,y,z in zip(X,Y,Z):\n",
    "        f.write('\\n%.4f,%.4f,%.3f' %(x,y,z))\n",
    "    f.close()\n",
    "    print('>>> File written:')\n",
    "    print(fileout)\n",
    "\n",
    "szone = 'puy'\n",
    "generate_highres_interface_grid(szone)\n",
    "szone = 'hik'\n",
    "generate_highres_interface_grid(szone)"
   ]
  },
  {
   "cell_type": "code",
   "execution_count": null,
   "id": "b8992aa7",
   "metadata": {},
   "outputs": [],
   "source": []
  }
 ],
 "metadata": {
  "kernelspec": {
   "display_name": "Python 3 (ipykernel)",
   "language": "python",
   "name": "python3"
  },
  "language_info": {
   "codemirror_mode": {
    "name": "ipython",
    "version": 3
   },
   "file_extension": ".py",
   "mimetype": "text/x-python",
   "name": "python",
   "nbconvert_exporter": "python",
   "pygments_lexer": "ipython3",
   "version": "3.8.12"
  }
 },
 "nbformat": 4,
 "nbformat_minor": 5
}
