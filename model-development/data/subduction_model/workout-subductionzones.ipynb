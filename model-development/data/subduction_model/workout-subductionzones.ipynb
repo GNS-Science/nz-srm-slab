{
 "cells": [
  {
   "cell_type": "code",
   "execution_count": 3,
   "id": "88f5314a",
   "metadata": {},
   "outputs": [],
   "source": [
    "import csv\n",
    "import matplotlib.pyplot as plt\n",
    "import mat\n",
    "import numpy as np\n",
    "import polygon as poly\n",
    "from shapely.geometry import Polygon, Point"
   ]
  },
  {
   "cell_type": "code",
   "execution_count": 4,
   "id": "b49dcbbb",
   "metadata": {},
   "outputs": [],
   "source": [
    "def get_boundary(zone, subduction_model):\n",
    "    # let us get the ploygon for subduction zone\n",
    "    X = mat.flatten(subduction_model[zone]['lon'].tolist())\n",
    "    Y = mat.flatten(subduction_model[zone]['lat'].tolist())\n",
    "    D = mat.flatten(subduction_model[zone]['dep'].tolist())\n",
    "\n",
    "    xlon = [x for x, d in zip(X,D) if not np.isnan(d)]\n",
    "    xlat = [y for y, d in zip(Y,D) if not np.isnan(d)]\n",
    "\n",
    "    blon, blat = poly.boundary(xlon, xlat)\n",
    "    return xlon, xlat, blon,blat"
   ]
  },
  {
   "cell_type": "code",
   "execution_count": 7,
   "id": "47f26bbb",
   "metadata": {},
   "outputs": [],
   "source": [
    "# first, let us get the zones and the bounds\n",
    "subdmod =  mat.getdict('../subduction_model/subduction_model.mat')\n",
    "hik_lon, hik_lat, hik_blon, hik_blat = get_boundary('hik', subdmod)\n",
    "puy_lon, puy_lat, puy_blon, puy_blat = get_boundary('puy', subdmod)\n",
    "\n",
    "hik_polygon = poly.get_polygon(hik_blon, hik_blat)\n",
    "puy_polygon = poly.get_polygon(puy_blon, puy_blat)\n",
    "\n",
    "subduction_bounds = {'hik': hik_polygon,\n",
    "                     'puy': puy_polygon,};\n",
    "\n",
    "np.save('subduction_bounds.npy', subduction_bounds)"
   ]
  },
  {
   "cell_type": "code",
   "execution_count": null,
   "id": "c41b93c7",
   "metadata": {},
   "outputs": [],
   "source": []
  }
 ],
 "metadata": {
  "kernelspec": {
   "display_name": "Python 3 (ipykernel)",
   "language": "python",
   "name": "python3"
  },
  "language_info": {
   "codemirror_mode": {
    "name": "ipython",
    "version": 3
   },
   "file_extension": ".py",
   "mimetype": "text/x-python",
   "name": "python",
   "nbconvert_exporter": "python",
   "pygments_lexer": "ipython3",
   "version": "3.8.12"
  }
 },
 "nbformat": 4,
 "nbformat_minor": 5
}
