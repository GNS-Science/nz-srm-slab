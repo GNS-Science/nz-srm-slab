{
 "cells": [
  {
   "cell_type": "code",
   "execution_count": 1,
   "id": "18d5d452",
   "metadata": {},
   "outputs": [],
   "source": [
    "import csv\n",
    "import numpy as np\n",
    "from shapely.geometry import Polygon, Point"
   ]
  },
  {
   "cell_type": "markdown",
   "id": "eb4e2d6a",
   "metadata": {},
   "source": [
    "#### We focus on Subduction zones and extract pertinent subcatalogues with following criterea:\n",
    "\n",
    "- Magnitude Mw >=3.0\n",
    "- Spatial bounds of subduction zones\n",
    "- Depths < 500 km"
   ]
  },
  {
   "cell_type": "code",
   "execution_count": 2,
   "id": "d19076b4",
   "metadata": {},
   "outputs": [],
   "source": [
    "def is_inZone(x,y, szone, subduction_bounds):\n",
    "    xypoint = Point(x, y)\n",
    "    if xypoint.within(subduction_bounds[szone]):\n",
    "        return True\n",
    "    return False\n",
    "\n",
    "def extract_subcatalogue(input_catalogue, catalogue_format, output_file, \n",
    "                         Mmin=3.0, Hmax = 500, subduction_bounds= None):\n",
    "    \n",
    "    if subduction_bounds is None:\n",
    "        hik_finterp = np.load('../../1SubductionModel/finterp/hik_finterp.npy', allow_pickle=True)[()]\n",
    "        hik_bounds = hik_finterp['xbounds']\n",
    "        puy_finterp = np.load('../../1SubductionModel/finterp/puy_finterp.npy', allow_pickle=True)[()]\n",
    "        puy_bounds = puy_finterp['xbounds']\n",
    "        subduction_bounds = {'hik': hik_bounds, 'puy': puy_bounds}\n",
    "    #\n",
    "    fout = open(output_file, 'w')\n",
    "   \n",
    "    fout.write(\"year, month, day, hour, minute, second, lon, lat, depth, mag\")\n",
    "    #fout.write(\"date,time,mag,magtype,decimalyear,dayofyear,X,Y,Z,lon,lat,depth\\n\")\n",
    "    \n",
    "    with open(input_catalogue, \"r\") as f:\n",
    "        datareader=csv.reader(f)\n",
    "        header = next(datareader)\n",
    "        nrow = 0\n",
    "        for row in datareader: \n",
    "            if catalogue_format=='rollins':\n",
    "                lon = float(row[6])\n",
    "                lat = float(row[7])\n",
    "                dep = float(row[8])\n",
    "                mag = float(row[9])\n",
    "            elif data_format =='rastin':\n",
    "                mag = float(row[2])\n",
    "                lon = float(row[6])\n",
    "                lat = float(row[7])\n",
    "                dep = float(row[8])\n",
    "            else:\n",
    "                raise Exception('Error: please, the format is either rollins or rastin')\n",
    "            \n",
    "            if mag<Mmin:\n",
    "                continue\n",
    "            if dep>Hmax:\n",
    "                continue\n",
    "            \n",
    "            # check subduction \n",
    "            in_zone =False\n",
    "            if is_inZone(lon,lat, 'hik', subduction_bounds):\n",
    "                in_zone = True\n",
    "            elif is_inZone(lon,lat, 'puy', subduction_bounds):\n",
    "                in_zone = True\n",
    "            \n",
    "            if not in_zone:\n",
    "                continue\n",
    "                \n",
    "            if catalogue_format=='rollins':\n",
    "                fout.write('\\n%d, %d, %d, %d, %d, %.3f, ' \\\n",
    "                       %(int(row[0]), int(row[1]), int(row[2]), \\\n",
    "                         int(row[3]), int(row[4]), float(row[5])))\n",
    "                fout.write('%.4f, %.4f, %.2f, %.3f' %(lon, lat, dep, mag))\n",
    "            else:            \n",
    "                tdate = row[0].split('-')\n",
    "                ttime = row[1].split(':')\n",
    "                fout.write('\\n%d, %d, %d, %d, %d, %.3f, ' \\\n",
    "                       %(int(tdate[2]), int(get_dmonth(tdate[1])), int(tdate[0]), \\\n",
    "                         int(ttime[0]), int(ttime[1]), float(ttime[2])))\n",
    "                fout.write('%.4f, %.4f, %.2f, %.3f' %(lon, lat, dep, mag))\n",
    "    fout.close()\n",
    "    print('Extracted catalogue:', output_file)\n",
    "\n",
    "def get_dmonth(mstr):\n",
    "    if mstr.lower() =='jan':\n",
    "        return 1\n",
    "    if mstr.lower() =='feb':\n",
    "        return 2\n",
    "    if mstr.lower() =='mar':\n",
    "        return 3\n",
    "    if mstr.lower() =='apr':\n",
    "        return 4\n",
    "    if mstr.lower() =='may':\n",
    "        return 5\n",
    "    if mstr.lower() =='jun':\n",
    "        return 6\n",
    "    if mstr.lower() =='jul':\n",
    "        return 7\n",
    "    if mstr.lower() =='aug':\n",
    "        return 8\n",
    "    if mstr.lower() =='sep':\n",
    "        return 9\n",
    "    if mstr.lower() =='oct':\n",
    "        return 10\n",
    "    if mstr.lower() =='nov':\n",
    "        return 11\n",
    "    if mstr.lower() =='dec':\n",
    "        return 12\n",
    "    raise Exception('mstr is not a Month:' + mstr)\n",
    "    "
   ]
  },
  {
   "cell_type": "code",
   "execution_count": 3,
   "id": "cf417677",
   "metadata": {},
   "outputs": [
    {
     "name": "stdout",
     "output_type": "stream",
     "text": [
      "Extracted catalogue: subduction_catalogs/NZeqcat_Rollins13042020-subd.csv\n"
     ]
    }
   ],
   "source": [
    "subduction_bounds = np.load('../subduction_model/subduction_bounds.npy', allow_pickle=True)[()]\n",
    "\n",
    "data_format = \"rollins\"\n",
    "input_file = \"catalogs/NZeqcat_Rollins13042020.csv\"\n",
    "output_file = \"subduction_catalogs/NZeqcat_Rollins13042020-subd.csv\"\n",
    "\n",
    "extract_subcatalogue(input_file, data_format, output_file)"
   ]
  },
  {
   "cell_type": "code",
   "execution_count": 4,
   "id": "e2594efd",
   "metadata": {},
   "outputs": [
    {
     "name": "stdout",
     "output_type": "stream",
     "text": [
      "Extracted catalogue: subduction_catalogs/Grue_NZeqcat_Rollins13042020SepiDeep-subd.csv\n"
     ]
    }
   ],
   "source": [
    "data_format = \"rastin\"\n",
    "input_file = \"catalogs/Grue_NZeqcat_Rollins13042020SepiDeep.csv\"\n",
    "output_file = \"subduction_catalogs/Grue_NZeqcat_Rollins13042020SepiDeep-subd.csv\"\n",
    "extract_subcatalogue(input_file, data_format, output_file)"
   ]
  },
  {
   "cell_type": "code",
   "execution_count": 6,
   "id": "d01fe81b",
   "metadata": {},
   "outputs": [
    {
     "name": "stdout",
     "output_type": "stream",
     "text": [
      "Extracted catalogue: subduction_catalogs/Grue_NZeqcat_Rollins13042020SepiShallow_subd.csv\n"
     ]
    }
   ],
   "source": [
    "data_format = \"rastin\"\n",
    "input_file = \"catalogs/Grue_NZeqcat_Rollins13042020SepiShallow.csv\"\n",
    "output_file = \"subduction_catalogs/Grue_NZeqcat_Rollins13042020SepiShallow_subd.csv\"\n",
    "extract_subcatalogue(input_file, data_format, output_file)"
   ]
  },
  {
   "cell_type": "code",
   "execution_count": null,
   "id": "e13e008c",
   "metadata": {},
   "outputs": [],
   "source": []
  }
 ],
 "metadata": {
  "kernelspec": {
   "display_name": "Python 3 (ipykernel)",
   "language": "python",
   "name": "python3"
  },
  "language_info": {
   "codemirror_mode": {
    "name": "ipython",
    "version": 3
   },
   "file_extension": ".py",
   "mimetype": "text/x-python",
   "name": "python",
   "nbconvert_exporter": "python",
   "pygments_lexer": "ipython3",
   "version": "3.8.12"
  }
 },
 "nbformat": 4,
 "nbformat_minor": 5
}
