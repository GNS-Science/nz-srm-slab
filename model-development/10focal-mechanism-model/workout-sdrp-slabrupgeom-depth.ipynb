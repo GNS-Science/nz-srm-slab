{
 "cells": [
  {
   "cell_type": "code",
   "execution_count": 1,
   "id": "40490110",
   "metadata": {},
   "outputs": [],
   "source": [
    "import csv\n",
    "import matplotlib.pyplot as plt\n",
    "import numpy as np\n",
    "import scipy.stats as stats\n",
    "import json\n",
    "from scipy.interpolate import interp1d\n",
    "from scipy.interpolate import PPoly\n",
    "\n",
    "import os\n",
    "import sys\n",
    "module_path = os.path.abspath(os.path.join('..'))\n",
    "if module_path not in sys.path:\n",
    "    sys.path.append(module_path)\n",
    "from pyslabgrid import slabrup as slabrup\n",
    "from pyslabgrid import circ as circ"
   ]
  },
  {
   "cell_type": "code",
   "execution_count": 2,
   "id": "693ef52b",
   "metadata": {},
   "outputs": [
    {
     "data": {
      "application/javascript": [
       "IPython.OutputArea.prototype._should_scroll = function(lines) {\n",
       "    return false;\n",
       "};\n"
      ],
      "text/plain": [
       "<IPython.core.display.Javascript object>"
      ]
     },
     "metadata": {},
     "output_type": "display_data"
    }
   ],
   "source": [
    "%%javascript\n",
    "IPython.OutputArea.prototype._should_scroll = function(lines) {\n",
    "    return false;\n",
    "};"
   ]
  },
  {
   "cell_type": "markdown",
   "id": "a9747696",
   "metadata": {},
   "source": [
    "#### Note\n",
    "The depth analyses does not use dip-angle to decide the strike-orientations. Instead, we apply depth = 80 km for Hikurangi and 0 km for Puysegur, as threshold depths to decide whether strike is aligned with slab (dip-direction is same as slab) or the other way round.  See the paradigm in the workout-sdrp-slabrupgeom-summary"
   ]
  },
  {
   "cell_type": "code",
   "execution_count": 3,
   "id": "3d11f14d",
   "metadata": {},
   "outputs": [],
   "source": [
    "# for more rigourous classification of strikes\n",
    "dump_hik = slabrup.get_GeoNetevents('hik')\n",
    "dump_puy = slabrup.get_GeoNetevents('puy')\n",
    "slabevents = {'hik': dump_hik, 'puy': dump_puy}\n"
   ]
  },
  {
   "cell_type": "code",
   "execution_count": 4,
   "id": "5ee9834a",
   "metadata": {},
   "outputs": [],
   "source": [
    "def circ_median(data):\n",
    "    data = [np.deg2rad(d) for d in data]\n",
    "    mcos = np.median(np.cos(data))\n",
    "    msin = np.median(np.sin(data))\n",
    "    M = np.rad2deg(np.arctan2(msin, mcos))\n",
    "    if M<0:\n",
    "        M= 360+M\n",
    "    return (M)\n",
    "\n",
    "def abs_circ_diff(a,b):\n",
    "    return abs(((a-b)+180)%360-180)\n",
    "\n",
    "def circ_median_absolution_deviation(data):\n",
    "    M = circ_median(data)\n",
    "    diffs = []\n",
    "    for d in data:\n",
    "        diffs.append(abs_circ_diff(d,M))\n",
    "    \n",
    "    return(np.median(diffs))\n",
    "\n",
    "def circ_add(a,b):\n",
    "    return (a+b)%360\n",
    "\n",
    "def circ_diff(a,b):\n",
    "    return (((a-b)+180)%360-180)\n",
    "\n",
    "def get_cmedian_stats(dat):\n",
    "    return (round(circ_median(dat),1), \\\n",
    "            round(circ_median_absolution_deviation(dat),2))"
   ]
  },
  {
   "cell_type": "code",
   "execution_count": 5,
   "id": "963dc678",
   "metadata": {
    "scrolled": false
   },
   "outputs": [],
   "source": [
    "def get_fmodel_data (szone, slabevents):\n",
    "    bangle = 45\n",
    "    lon, lat = slabevents[szone]['lon'], slabevents[szone]['lat']\n",
    "    strike1 = slabevents[szone]['strike1']\n",
    "    strike2 = slabevents[szone]['strike2']\n",
    "    rake1 = slabevents[szone]['rake1']\n",
    "    rake2 = slabevents[szone]['rake2']\n",
    "    dip1 = slabevents[szone]['dip1']\n",
    "    dip2 = slabevents[szone]['dip2']\n",
    "    dep = slabevents[szone]['dep']\n",
    "    \n",
    "    finterp_file = {'hik': '../subduction-model/finterp/hik_finterp.npy', \n",
    "                    'puy': '../subduction-model/finterp/puy_finterp.npy',}\n",
    "    \n",
    "    finterp = np.load(finterp_file[szone], allow_pickle=True)[()]\n",
    "    slabstrike_finterp = finterp['strikeAn']\n",
    "\n",
    "    fbs = 10\n",
    "    cdep = {'hik': 80, 'puy': 0}\n",
    "    if szone=='hik':\n",
    "        depbin = [x for x in range(20,250,fbs)]\n",
    "    else:\n",
    "        depbin = [x for x in range(20,250,fbs)]\n",
    "\n",
    "    fmodel_data = {}\n",
    "    for db in depbin:\n",
    "        mystrike, mydip, myrake, mydep = [], [], [], []\n",
    "    \n",
    "        for x,y, s1,r1,dp1, s2,r2,dp2,z \\\n",
    "            in zip(lon, lat, strike1,rake1,dip1, strike2,rake2,dip2, dep):\n",
    "        #\n",
    "            if (z>=db-fbs) & (z<=db+fbs):\n",
    "                kslabstrike = slabstrike_finterp(np.transpose([[x],[y]]))[0]\n",
    "                if db>cdep[szone]:\n",
    "                    kstrike = (kslabstrike-180)%360\n",
    "                else:\n",
    "                    kstrike = kslabstrike\n",
    "            \n",
    "                abs_cric_diff = abs_circ_diff(s1,kstrike)\n",
    "                abs_cric_diff2 = abs_circ_diff(s2,kstrike) \n",
    "                if abs_cric_diff< bangle:\n",
    "                    mystrike.append(s1)\n",
    "                    mydip.append(dp1)\n",
    "                    myrake.append(r1)\n",
    "                    mydep.append(z)\n",
    "                elif abs_cric_diff2 < bangle:\n",
    "                    mystrike.append(s2)\n",
    "                    mydip.append(dp2)\n",
    "                    myrake.append(r2)\n",
    "                    mydep.append(z)    \n",
    "         \n",
    "        if mystrike:     \n",
    "            cmed, cmad = circ.meanstats(mystrike, high=360, stdev=True)\n",
    "            fmodel_data.update({db: {'strike': mystrike, 'rake': myrake, 'dip': mydip, 'dep': mydep}})\n",
    "    return fmodel_data\n"
   ]
  },
  {
   "cell_type": "code",
   "execution_count": 6,
   "id": "5b14c751",
   "metadata": {},
   "outputs": [],
   "source": [
    " def plot_params_depthbins(depbins, m_params, merr_params, \\\n",
    "                              xlab = 'strike', ylim = [0,360], ax = None, interpmod=False):\n",
    "        #\n",
    "        ax.errorbar(depbins, m_params, yerr = merr_params, color='k', \\\n",
    "             linewidth= 1,linestyle='None', capsize=5);\n",
    "        if interpmod:\n",
    "            ax.plot(depbins, m_params,'o', markersize=10, color='grey')\n",
    "        else:\n",
    "            ax.plot(depbins, m_params,'o', markersize=10, color='maroon')\n",
    "        \n",
    "        ax.set_ylabel(xlab) #+ ' ($^\\circ$)')\n",
    "\n",
    "        if xlab.strip()=='Rake':\n",
    "            ax.set_xlabel('Depth (km)')\n",
    "            \n",
    "        ax.set_ylim(ylim)\n",
    "        ax.set_xticks([x for x in depbins])\n",
    "    "
   ]
  },
  {
   "cell_type": "code",
   "execution_count": 7,
   "id": "fe4e2202",
   "metadata": {},
   "outputs": [],
   "source": [
    "#szone = 'hik'\n",
    "\n",
    "def get_fmodel(szone, slabevents):\n",
    "    fmodel_data = get_fmodel_data (szone, slabevents)\n",
    "    strike_median, strike_mad = [],[]\n",
    "    rake_median, rake_mad = [],[]\n",
    "    dip_median, dip_mad = [],[]\n",
    "    fdepbins = []\n",
    "    kdepbins = fmodel_data.keys()\n",
    "    fmodel = {}\n",
    "    ifmodel = {}\n",
    "    \n",
    "    depbins =[]\n",
    "    for db in kdepbins:\n",
    "        strikes= fmodel_data[db]['strike']\n",
    "        rakes= fmodel_data[db]['rake']\n",
    "        dips = fmodel_data[db]['dip']\n",
    "        if szone=='hik':\n",
    "            if len(strikes)< 12:\n",
    "                continue;\n",
    "        else:\n",
    "             if len(strikes)< 5:\n",
    "                continue;\n",
    "        \n",
    "        depbins.append(db)\n",
    "        \n",
    "        strike_cmed, strike_cmad = get_cmedian_stats(strikes)\n",
    "        strike_median.append(strike_cmed)\n",
    "        strike_mad.append(strike_cmad)\n",
    "    \n",
    "        rake_cmed, rake_cmad = get_cmedian_stats(rakes)\n",
    "        rake_median.append(rake_cmed)\n",
    "        rake_mad.append(rake_cmad)\n",
    "        \n",
    "        dip_cmed, dip_cmad = get_cmedian_stats(dips)\n",
    "        dip_median.append(dip_cmed)\n",
    "        dip_mad.append(dip_cmad)\n",
    "        \n",
    "        fdepbins.append(db)\n",
    "        # should make this differnt function -- but no time\n",
    "        fmodel.update({db: {'strike': [strike_cmed, strike_cmad], \n",
    "                            'rake': [rake_cmed,rake_cmad],\n",
    "                            'dip': [dip_cmed, dip_cmad],\n",
    "                             }})\n",
    "    \n",
    "    idepbins = {'hik': [x for x in range(20,300,10)],\n",
    "                'puy': [x for x in range(20,300,10)]}\n",
    "    \n",
    "    fstrike_median = [s for s in strike_median]\n",
    "    fstrike_mad = [s for s in strike_mad]\n",
    "    fdip_median = [d for d in dip_median]\n",
    "    fdip_mad = [d for d in dip_mad]\n",
    "    frake_median = [d for d in rake_median]\n",
    "    frake_mad = [d for d in rake_mad]\n",
    "   \n",
    "    fstrike_median.append(strike_cmed)\n",
    "    fstrike_mad.append(strike_cmad)\n",
    "    fdip_median.append(dip_cmed)\n",
    "    fdip_mad.append(dip_cmad)\n",
    "    frake_median.append(rake_cmed)\n",
    "    frake_mad.append(rake_cmad)\n",
    "    \n",
    "    if szone =='hik':   \n",
    "        fdepbins.append(290)\n",
    "    else:\n",
    "        fdepbins.append(290)\n",
    "    \n",
    "    fdepbins = np.array(fdepbins)\n",
    "    strike_interp = interp1d(fdepbins, np.array(fstrike_median))\n",
    "    strikemad_interp = interp1d(fdepbins, np.array(fstrike_mad))\n",
    "    dip_interp = interp1d(fdepbins, np.array(fdip_median))\n",
    "    dipmad_interp = interp1d(fdepbins, np.array(fdip_mad))\n",
    "    rake_interp = interp1d(fdepbins, np.array(frake_median))\n",
    "    rakemad_interp = interp1d(fdepbins, np.array(frake_mad))\n",
    "   \n",
    "    for db in idepbins[szone]:\n",
    "        istrike_med = strike_interp(db).tolist()\n",
    "        istrike_mad = strikemad_interp(db).tolist()\n",
    "        idip_med = dip_interp(db).tolist()\n",
    "        idip_mad = dipmad_interp(db).tolist()\n",
    "        irake_med = rake_interp(db).tolist()\n",
    "        irake_mad = rakemad_interp(db).tolist()\n",
    "        \n",
    "        ifmodel.update({db: {'strike': [istrike_med, istrike_mad], \n",
    "                             'dip': [idip_med, idip_mad],\n",
    "                             'rake': [irake_med, irake_mad],\n",
    "                             }})\n",
    "    \n",
    "    return fmodel, ifmodel\n",
    "    "
   ]
  },
  {
   "cell_type": "code",
   "execution_count": 8,
   "id": "e7a1be3d",
   "metadata": {},
   "outputs": [],
   "source": [
    "def plot_fmodel_param(kmodel, param, xlab='', ylim=[0,360], ax=None, interpmod = False):\n",
    "    param_mad, param_median = [],[]\n",
    "    depbins = [d for d in kmodel.keys()]\n",
    "   \n",
    "    for db in depbins:\n",
    "        param_median.append(kmodel[db][param][0])\n",
    "        param_mad.append(kmodel[db][param][1])\n",
    " \n",
    "    plot_params_depthbins(depbins, param_median, param_mad, \\\n",
    "                              xlab = xlab, ylim = ylim, ax = ax, interpmod=interpmod)\n",
    "    \n",
    "    \n",
    "def plot_fmodel(szone, fmodel, ifmodel):\n",
    "    idepbins = [d for d in ifmodel.keys()]\n",
    "   \n",
    "    if szone == 'hik':\n",
    "        fig, ax = plt.subplots(3,1, figsize=(12,7), sharex=True)\n",
    "    else:\n",
    "        fig, ax = plt.subplots(3,1, figsize=(12,7),sharex=True)\n",
    "    # xx = [x  for x in range(1,len(depbins)+1)]\n",
    "    \n",
    "    xlim = {'hik': [10, 245], 'puy': [10, 245]}\n",
    "#     ax1 = fig.add_subplot(311)\n",
    "#     ax2 = fig.add_subplot(312)\n",
    "#     ax3 = fig.add_subplot(313)\n",
    "    strtitle = {'hik': 'Hikurangi Slab', 'puy': 'Puysegur Slab'}\n",
    "    # ax[0].set_title(strtitle[szone], fontsize=16)\n",
    "    \n",
    "    if szone=='hik':\n",
    "        ylim_s=[10,270]\n",
    "        ylim_r =[10, 340]\n",
    "    else:\n",
    "        ylim_s=[150,280]\n",
    "        ylim_r =[10, 200]    \n",
    "        \n",
    "    plot_fmodel_param(ifmodel, 'strike', xlab='Strike ', ylim=ylim_s, ax=ax[0], interpmod = True)\n",
    "    plot_fmodel_param(fmodel, 'strike', xlab='Strike ', ylim=ylim_s, ax=ax[0])\n",
    "    depbins = [d for d in ifmodel.keys()]\n",
    "    ax[0].spines['top'].set_visible(False)\n",
    "    ax[0].spines['right'].set_visible(False)\n",
    "\n",
    "    ax[0].set_xticks([x for x in depbins])\n",
    "    ax[0].set_xlim(xlim[szone])\n",
    "    \n",
    "    plot_fmodel_param(ifmodel, 'dip', xlab='Dip ', ylim=[30,90], ax=ax[1], interpmod = True)\n",
    "    plot_fmodel_param(fmodel, 'dip', xlab='Dip ', ylim=[30,90], ax=ax[1])\n",
    "    ax[1].spines['top'].set_visible(False)\n",
    "    ax[1].spines['right'].set_visible(False)\n",
    "    \n",
    "    ax[1].set_xticks([x for x in depbins])\n",
    "    ax[1].set_xlim(xlim[szone])\n",
    "    \n",
    "    plot_fmodel_param(ifmodel, 'rake', xlab='Rake ', ylim=ylim_r, ax=ax[2], interpmod = True)\n",
    "    plot_fmodel_param(fmodel, 'rake', xlab='Rake ', ylim=ylim_r, ax=ax[2])\n",
    "    ax[2].spines['top'].set_visible(False)\n",
    "    ax[2].spines['right'].set_visible(False)\n",
    "    ax[2].set_xticks([x for x in depbins])\n",
    "    ax[2].set_xlim(xlim[szone])\n",
    "    fig.suptitle(strtitle[szone], fontsize=18, y=0.95)  \n",
    "    fig.tight_layout()\n",
    "    return ax[0]"
   ]
  },
  {
   "cell_type": "code",
   "execution_count": 9,
   "id": "82acd6c8",
   "metadata": {
    "scrolled": false
   },
   "outputs": [
    {
     "data": {
      "image/png": "[encoded data removed]",
      "text/plain": [
       "<Figure size 864x504 with 3 Axes>"
      ]
     },
     "metadata": {
      "needs_background": "light"
     },
     "output_type": "display_data"
    }
   ],
   "source": [
    "fmodel_hik, ifmodel_hik = get_fmodel('hik', slabevents);\n",
    "plt.matplotlib.rcParams.update({'font.size': 15})\n",
    "ax = plot_fmodel('hik', fmodel_hik, ifmodel_hik)\n",
    "axin1 = ax.inset_axes([-0.08, .99, 0.15, 0.15])\n",
    "axin1.text(0.1,0.1, '(a)', fontsize=22);\n",
    "axin1.axis('off');\n",
    "plt.savefig('Figure10A.jpeg', dpi=300, facecolor='w');"
   ]
  },
  {
   "cell_type": "code",
   "execution_count": 10,
   "id": "bd81e94c",
   "metadata": {
    "scrolled": true
   },
   "outputs": [
    {
     "data": {
      "image/png": "[encoded data removed]",
      "text/plain": [
       "<Figure size 864x504 with 3 Axes>"
      ]
     },
     "metadata": {
      "needs_background": "light"
     },
     "output_type": "display_data"
    }
   ],
   "source": [
    "fmodel_puy, ifmodel_puy = get_fmodel('puy', slabevents);\n",
    "for k in ifmodel_puy.keys():\n",
    "    if k>150:\n",
    "        ifmodel_puy[k]['strike'] = [float('nan'), float('nan')]\n",
    "        ifmodel_puy[k]['dip'] = [float('nan'), float('nan')]\n",
    "        ifmodel_puy[k]['rake'] = [float('nan'), float('nan')]\n",
    "\n",
    "plt.matplotlib.rcParams.update({'font.size': 15})\n",
    "ax = plot_fmodel('puy', fmodel_puy, ifmodel_puy)\n",
    "axin1 = ax.inset_axes([-0.09, 1, 0.15, 0.15])\n",
    "axin1.text(0.1,0.1, '(b)', fontsize=22);\n",
    "axin1.axis('off');\n",
    "\n",
    "plt.savefig('Figure10B.jpeg', dpi=300, facecolor='w');"
   ]
  },
  {
   "cell_type": "code",
   "execution_count": null,
   "id": "f8ca44d6",
   "metadata": {},
   "outputs": [],
   "source": []
  },
  {
   "cell_type": "code",
   "execution_count": 11,
   "id": "33a86a6d",
   "metadata": {},
   "outputs": [
    {
     "name": "stdout",
     "output_type": "stream",
     "text": [
      "{'hik': {20: [[-144, 56.0, -85, 0.32], [229.0, 56.0, -85, 0.36], [242, 56.0, -85, 0.32]], 30: [[-143, 57.0, -84, 0.32], [230.0, 57.0, -84, 0.36], [243, 57.0, -84, 0.32]], 40: [[-141, 56.0, -89, 0.32], [231.0, 56.0, -89, 0.36], [243, 56.0, -89, 0.32]], 50: [[-138, 54.5, -76, 0.32], [235.5, 54.5, -76, 0.36], [248, 54.5, -76, 0.32]], 60: [[-140, 62.0, -78, 0.32], [239.0, 62.0, -78, 0.36], [258, 62.0, -78, 0.32]], 70: [[-145, 65.0, -123, 0.32], [236.0, 65.0, -123, 0.36], [257, 65.0, -123, 0.32]], 80: [[-160, 52.5, 138, 0.32], [219.0, 52.5, 138, 0.36], [238, 52.5, 138, 0.32]], 90: [[26, 53.0, 161, 0.32], [38.5, 53.0, 161, 0.36], [52, 53.0, 161, 0.32]], 100: [[20, 52.5, 160, 0.32], [34.0, 52.5, 160, 0.36], [48, 52.5, 160, 0.32]], 110: [[31, 53.0, 156, 0.32], [53.0, 53.0, 156, 0.36], [75, 53.0, 156, 0.32]], 120: [[32, 55.5, 142, 0.32], [52.5, 55.5, 142, 0.36], [73, 55.5, 142, 0.32]], 130: [[43, 67.0, 134, 0.32], [51.0, 67.0, 134, 0.36], [59, 67.0, 134, 0.32]], 140: [[26, 72.0, 133, 0.32], [39.0, 72.0, 133, 0.36], [52, 72.0, 133, 0.32]], 150: [[27, 72.5, 123, 0.32], [36.5, 72.5, 123, 0.36], [46, 72.5, 123, 0.32]], 160: [[28, 71.0, 117, 0.32], [45.5, 71.0, 117, 0.36], [62, 71.0, 117, 0.32]], 170: [[31, 75.0, 104, 0.32], [46.0, 75.0, 104, 0.36], [61, 75.0, 104, 0.32]], 180: [[41, 67.0, 114, 0.32], [51.5, 67.0, 114, 0.36], [62, 67.0, 114, 0.32]], 190: [[36, 61.5, 114, 0.32], [45.0, 61.5, 114, 0.36], [54, 61.5, 114, 0.32]], 200: [[28, 58.0, 141, 0.32], [38.0, 58.0, 141, 0.36], [48, 58.0, 141, 0.32]], 210: [[28, 58.0, 141, 0.32], [38.0, 58.0, 141, 0.36], [48, 58.0, 141, 0.32]], 220: [[28, 58.0, 141, 0.32], [38.0, 58.0, 141, 0.36], [48, 58.0, 141, 0.32]], 230: [[28, 58.0, 141, 0.32], [38.0, 58.0, 141, 0.36], [48, 58.0, 141, 0.32]], 240: [[28, 58.0, 141, 0.32], [38.0, 58.0, 141, 0.36], [48, 58.0, 141, 0.32]], 250: [[28, 58.0, 141, 0.32], [38.0, 58.0, 141, 0.36], [48, 58.0, 141, 0.32]], 260: [[28, 58.0, 141, 0.32], [38.0, 58.0, 141, 0.36], [48, 58.0, 141, 0.32]], 270: [[28, 58.0, 141, 0.32], [38.0, 58.0, 141, 0.36], [48, 58.0, 141, 0.32]], 280: [[28, 58.0, 141, 0.32], [38.0, 58.0, 141, 0.36], [48, 58.0, 141, 0.32]], 290: [[28, 58.0, 141, 0.32], [38.0, 58.0, 141, 0.36], [48, 58.0, 141, 0.32]]}, 'puy': {20: [[-172, 72.0, 77, 0.32], [201.0, 72.0, 77, 0.36], [214, 72.0, 77, 0.32]], 30: [[-172, 71.0, 80, 0.32], [207.0, 71.0, 80, 0.36], [226, 71.0, 80, 0.32]], 40: [[-160, 65.5, 74, 0.32], [219.0, 65.5, 74, 0.36], [238, 65.5, 74, 0.32]], 50: [[-155, 63.9, 93, 0.32], [221.5, 63.9, 93, 0.36], [238, 63.9, 93, 0.32]], 60: [[-150, 62.2, 111, 0.32], [224.0, 62.2, 111, 0.36], [238, 62.2, 111, 0.32]], 70: [[-144, 60.6, 129, 0.32], [226.5, 60.6, 129, 0.36], [237, 60.6, 129, 0.32]], 80: [[-139, 59.0, 148, 0.32], [229.0, 59.0, 148, 0.36], [237, 59.0, 148, 0.32]], 90: [[-137, 67.0, 140, 0.32], [229.5, 67.0, 140, 0.36], [236, 67.0, 140, 0.32]], 100: [[-138, 66.0, 122, 0.32], [229.0, 66.0, 122, 0.36], [236, 66.0, 122, 0.32]], 110: [[-139, 63.0, 83, 0.32], [229.0, 63.0, 83, 0.36], [237, 63.0, 83, 0.32]], 120: [[-165, 55.0, 59, 0.32], [215.0, 55.0, 59, 0.36], [235, 55.0, 59, 0.32]], 130: [[-165, 55.0, 59, 0.32], [215.0, 55.0, 59, 0.36], [235, 55.0, 59, 0.32]], 140: [[-165, 55.0, 59, 0.32], [215.0, 55.0, 59, 0.36], [235, 55.0, 59, 0.32]], 150: [[-165, 55.0, 59, 0.32], [215.0, 55.0, 59, 0.36], [235, 55.0, 59, 0.32]]}}\n"
     ]
    }
   ],
   "source": [
    "# assmeble the faulting model\n",
    "# {20: [[197, 59.0, -90, 0.32], [229, 59.0, -90, 0.36], [261, 59.0, -90, 0.32]],\n",
    "import math\n",
    "\n",
    "def get_slabrupgeom(kfmodel, maxdepth=9999):\n",
    "    slabrupgeom = {}\n",
    "    \n",
    "    for db in kfmodel.keys():\n",
    "        if db>maxdepth:\n",
    "            continue\n",
    "        strike = kfmodel[db]['strike'][0]\n",
    "        strike_mad = kfmodel[db]['strike'][1]\n",
    "        dip = round(kfmodel[db]['dip'][0],1)\n",
    "        rake = kfmodel[db]['rake'][0]\n",
    "        if math.isnan(rake):\n",
    "            continue\n",
    "        rake = round((rake + 180) % 360 - 180) # within +180 to -180\n",
    "        sdrp1 = [strike, dip, rake, 0.36]\n",
    "        sdrp0 = [round(circ_diff(strike,strike_mad)), dip, rake, 0.32]\n",
    "        sdrp2 = [round(circ_add(strike,strike_mad)), dip, rake, 0.32]\n",
    "        \n",
    "        slabrupgeom.update({db: [sdrp0,sdrp1,sdrp2]})\n",
    "    return slabrupgeom\n",
    "\n",
    "#\n",
    "slabrupgeom_hik = get_slabrupgeom(ifmodel_hik)\n",
    "slabrupgeom_puy = get_slabrupgeom(ifmodel_puy)\n",
    "\n",
    "slabrupgeom = {'hik': slabrupgeom_hik, 'puy': slabrupgeom_puy}\n",
    "\n",
    "import json\n",
    "\n",
    "with open(\"slab-faulting2.json\", \"w\") as f:\n",
    "    json.dump(slabrupgeom, f) \n",
    "    \n",
    "print(slabrupgeom)"
   ]
  },
  {
   "cell_type": "code",
   "execution_count": null,
   "id": "e732d207",
   "metadata": {},
   "outputs": [],
   "source": []
  }
 ],
 "metadata": {
  "kernelspec": {
   "display_name": "Python 3 (ipykernel)",
   "language": "python",
   "name": "python3"
  },
  "language_info": {
   "codemirror_mode": {
    "name": "ipython",
    "version": 3
   },
   "file_extension": ".py",
   "mimetype": "text/x-python",
   "name": "python",
   "nbconvert_exporter": "python",
   "pygments_lexer": "ipython3",
   "version": "3.8.12"
  }
 },
 "nbformat": 4,
 "nbformat_minor": 5
}
