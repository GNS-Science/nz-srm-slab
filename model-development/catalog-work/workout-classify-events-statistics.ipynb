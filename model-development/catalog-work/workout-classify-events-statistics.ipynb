{
 "cells": [
  {
   "cell_type": "code",
   "execution_count": 1,
   "id": "18d5d452",
   "metadata": {},
   "outputs": [],
   "source": [
    "import csv\n",
    "import matplotlib.pyplot as plt\n",
    "from shapely.geometry import Polygon, Point\n",
    "import numpy as np\n",
    "\n",
    "import os\n",
    "import sys\n",
    "module_path = os.path.abspath(os.path.join('..'))\n",
    "if module_path not in sys.path:\n",
    "    sys.path.append(module_path)\n",
    "\n",
    "from pyslabgrid import reckoner as reck\n",
    "from pyslabgrid import mat as mat\n",
    "from pyslabgrid import eqcat as eqc"
   ]
  },
  {
   "cell_type": "code",
   "execution_count": 2,
   "id": "36b09b36",
   "metadata": {},
   "outputs": [],
   "source": [
    "def within_interfacezone(evlon, evlat):\n",
    "    # test the interpolatiors\n",
    "    hik_finterp = np.load('../01subduction-model/finterp/hik_finterp.npy', allow_pickle=True)[()]\n",
    "    pbounds = hik_finterp['xbounds']\n",
    "    if pbounds.contains(Point(evlon, evlat)):\n",
    "        return 'hik'\n",
    "    \n",
    "    puy_finterp = np.load('../01subduction-model/finterp/puy_finterp.npy', allow_pickle=True)[()]\n",
    "    pbounds = puy_finterp['xbounds']\n",
    "    if pbounds.contains(Point(evlon, evlat)):\n",
    "        return 'puy'\n",
    "    \n",
    "    return None\n",
    "\n",
    "# extract events on a profile/box\n",
    "def get_boxpoints(x1,y1):\n",
    "    x11,y11 = reck.reckon(x1,y1, 20, 220)\n",
    "    xm, ym = [],[]\n",
    "    for dd in range(0,450,40):\n",
    "        tx,ty = reck.reckon(x11,y11, dd, 220+90)\n",
    "        xm.append(tx)\n",
    "        ym.append(ty)\n",
    "    x2,y2 = reck.reckon(x1,y1, 40, 220)\n",
    "    x3,y3 = reck.reckon(x2,y2, 500, 220+90)\n",
    "    x4,y4 = reck.reckon(x3,y3, -40, 220)\n",
    "    xs = [x1,x2,x3,x4,x1]\n",
    "    ys = [y1,y2,y3,y4,y1]\n",
    "    return xs, ys, xm, ym\n",
    "\n",
    "def get_stats(kmag, kisslab, klon = None, klat=None, szone=None):\n",
    "    ntMge3 = sum([m>=3.0 for m in xmag])\n",
    "    ntMge4 = sum([m>=4.0 for m in xmag])\n",
    "    ntMge5 = sum([m>=5.0 for m in xmag])\n",
    "    if szone is None:    \n",
    "        print('Combined subduction  |    %d    |   %d    |    %d    |' %(ntMge3, ntMge4, ntMge5))\n",
    "        return\n",
    "    elif szone =='slabs':\n",
    "        nMge3 = len([x for x,m in zip(kisslab,kmag) if (m>=3.0) & (x==1)])\n",
    "        nMge4 = len([x for x,m in zip(kisslab,kmag) if (m>=4.0) & (x==1)])\n",
    "        nMge5 = len([x for x,m in zip(kisslab,kmag) if (m>=5.0) & (x==1)])\n",
    "        \n",
    "        crat3, crat4, crat5 = nMge3/ntMge3, nMge4/ntMge4, nMge5/ntMge5\n",
    "        strtxt = 'Combined intraslab'\n",
    "    else:\n",
    "        s_mag, s_isslab = [],[]\n",
    "        for x,y, m, iss in zip(klon, klat, kmag, kisslab):\n",
    "            if within_interfacezone(x, y)== szone:\n",
    "                s_mag.append(m) \n",
    "                s_isslab.append(iss)\n",
    "        nMge3 = len([x for x,m in zip(s_isslab,s_mag) if (m>=3.0) & (x==1)])\n",
    "        nMge4 = len([x for x,m in zip(s_isslab,s_mag) if (m>=4.0) & (x==1)])\n",
    "        nMge5 = len([x for x,m in zip(s_isslab,s_mag) if (m>=5.0) & (x==1)])\n",
    "        \n",
    "        crat3, crat4, crat5 = nMge3/ntMge3, nMge4/ntMge4, nMge5/ntMge5\n",
    "        \n",
    "        if szone=='hik':\n",
    "            strtxt = 'Hikurangi intraslab'\n",
    "        else:\n",
    "            strtxt = 'Puysegur intraslab'\n",
    "            \n",
    "    print('%s   |  %d (%.2f) | %d (%.2f) | %d (%.2f)  |' \\\n",
    "                  %(strtxt, nMge3, crat3, nMge4, crat4, nMge5,crat5))\n"
   ]
  },
  {
   "cell_type": "code",
   "execution_count": 3,
   "id": "9bc60e98",
   "metadata": {},
   "outputs": [],
   "source": [
    "catalogues = ['NZeqcat_Rollins13042020-subd-slab.csv',\n",
    "             'Grue_NZeqcat_Rollins13042020SepiShallow_subd-slab.csv',\n",
    "             'Grue_NZeqcat_Rollins13042020SepiDeep-subd.csv',]\n",
    "folder = 'classified_catalogs/'"
   ]
  },
  {
   "cell_type": "code",
   "execution_count": 4,
   "id": "bbfb7c9e",
   "metadata": {},
   "outputs": [
    {
     "name": "stdout",
     "output_type": "stream",
     "text": [
      "                     |  Mw>=3.0 | Mw>=4.0 | Mw>=5.0  |\n",
      "\n",
      "Combined subduction  |    45955    |   4717    |    455    |\n",
      "Combined intraslab   |  27838 (0.61) | 2542 (0.54) | 235 (0.52)  |\n",
      "Hikurangi intraslab   |  25261 (0.55) | 2246 (0.48) | 213 (0.47)  |\n",
      "Puysegur intraslab   |  2577 (0.06) | 296 (0.06) | 22 (0.05)  |\n"
     ]
    }
   ],
   "source": [
    "ecat = eqc.read_slabcatalogue(folder+catalogues[0])\n",
    "lon, lat, mag, dep = ecat['lon'], ecat['lat'], ecat['mag'], ecat['dep']\n",
    "isslab, year = ecat['isslab'], ecat['year']\n",
    "\n",
    "# let get year >=1900\n",
    "xlon, xlat, xmag, xisslab, xyear = [], [], [], [],[]\n",
    "\n",
    "for x,y, m, z, iss, yr in zip(lon, lat, mag, dep, isslab, year):\n",
    "    if z>300:\n",
    "        continue\n",
    "    if yr>=1965:\n",
    "        xlon.append(x)\n",
    "        xlat.append(y)\n",
    "        xmag.append(m)\n",
    "        xisslab.append(iss)\n",
    "        xyear.append(yr)\n",
    "\n",
    "print('                     |  Mw>=3.0 | Mw>=4.0 | Mw>=5.0  |\\n')\n",
    "\n",
    "get_stats(xmag, xisslab, szone=None)\n",
    "get_stats(xmag, xisslab, szone='slabs')\n",
    "get_stats(xmag, xisslab, klon=xlon, klat = xlat, szone='hik')\n",
    "get_stats(xmag, xisslab, klon=xlon, klat = xlat, szone='puy')"
   ]
  },
  {
   "cell_type": "code",
   "execution_count": null,
   "id": "927ccf74",
   "metadata": {},
   "outputs": [],
   "source": []
  }
 ],
 "metadata": {
  "kernelspec": {
   "display_name": "Python 3 (ipykernel)",
   "language": "python",
   "name": "python3"
  },
  "language_info": {
   "codemirror_mode": {
    "name": "ipython",
    "version": 3
   },
   "file_extension": ".py",
   "mimetype": "text/x-python",
   "name": "python",
   "nbconvert_exporter": "python",
   "pygments_lexer": "ipython3",
   "version": "3.8.10"
  }
 },
 "nbformat": 4,
 "nbformat_minor": 5
}
