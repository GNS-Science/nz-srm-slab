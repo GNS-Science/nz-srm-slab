{
 "cells": [
  {
   "cell_type": "code",
   "execution_count": 1,
   "id": "18d5d452",
   "metadata": {},
   "outputs": [],
   "source": [
    "import csv\n",
    "import matplotlib.pyplot as plt\n",
    "from shapely.geometry import Polygon, Point\n",
    "import numpy as np\n",
    "\n",
    "import os\n",
    "import sys\n",
    "module_path = os.path.abspath(os.path.join('..'))\n",
    "if module_path not in sys.path:\n",
    "    sys.path.append(module_path)\n",
    "    \n",
    "from pyslabgrid import mat as mat"
   ]
  },
  {
   "cell_type": "code",
   "execution_count": 2,
   "id": "cfde1a7a",
   "metadata": {},
   "outputs": [],
   "source": [
    "def within_interfacezone(evlon, evlat):\n",
    "    # test the interpolatiors\n",
    "    hik_finterp = np.load('../01subduction-model/finterp/hik_finterp.npy', allow_pickle=True)[()]\n",
    "    pbounds = hik_finterp['xbounds']\n",
    "    if pbounds.contains(Point(evlon, evlat)):\n",
    "        return 'hik'\n",
    "    \n",
    "    puy_finterp = np.load('../01subduction-model/finterp/puy_finterp.npy', allow_pickle=True)[()]\n",
    "    pbounds = puy_finterp['xbounds']\n",
    "    if pbounds.contains(Point(evlon, evlat)):\n",
    "        return 'puy'\n",
    "    \n",
    "    return None"
   ]
  },
  {
   "cell_type": "code",
   "execution_count": 3,
   "id": "36b09b36",
   "metadata": {},
   "outputs": [],
   "source": [
    "def is_slabevent(evlon, evlat, evdep, fixed_parameters = None):\n",
    "    # Note that evdep is positive\n",
    "    # for each event:\n",
    "    #  if dep <= CRUST_THICKNESS && dep > interface_depth\n",
    "    #       'NOT SLAB'\n",
    "    #  if dep > 60 km\n",
    "    #        'SLAB'\n",
    "    #  if dep < 60 km & dep > interface_depth+buffer\n",
    "    #     \n",
    "    # (2) shallow_events, dep <= CRUST_THICKNESS\n",
    "    # (3) define filter for interface buffer\n",
    "    #     for events with dep <60 km, \n",
    "    # \n",
    "    \n",
    "    evdep = abs(evdep)\n",
    "    if fixed_parameters is None:\n",
    "        fixed_parameters = {\n",
    "                     'Hmax_interface': 80, # maximum depth\n",
    "                     'interface_buffer': [10, 10],\n",
    "                     'Hmax_crust': 40,\n",
    "                     'min_depth': 0,\n",
    "                     'max_depth': 500, # tentative\n",
    "                 }\n",
    "    #\n",
    "    if evdep>fixed_parameters['Hmax_interface']:\n",
    "        return True\n",
    "    \n",
    "    szone = within_interfacezone(evlon, evlat)\n",
    "    if szone is None:\n",
    "        return False\n",
    "    else:\n",
    "        if szone =='hik':\n",
    "            dep_finterp = np.load('../01subduction-model/finterp/hik_finterp_lowerbounds.npy', \\\n",
    "                                  allow_pickle=True)[()]\n",
    "        else:\n",
    "            dep_finterp = np.load('../01subduction-model/finterp/puy_finterp_lowerbounds.npy', \\\n",
    "                                  allow_pickle=True)[()]\n",
    "        lower_interface_depth = dep_finterp(np.transpose([[evlon], [evlat]]))\n",
    "        if evdep<=lower_interface_depth:\n",
    "            return False\n",
    "        else:\n",
    "            return True\n",
    "        \n",
    "def read_catalogue(input_file):\n",
    "    # year, month, day, hour, minute, second, lon, lat, depth, mag\n",
    "    eqcat = {}\n",
    "    with open(input_file, \"r\") as f:\n",
    "        datareader=csv.reader(f)\n",
    "        header = next(datareader)\n",
    "        nrow = 0\n",
    "        lon, lat, dep, mag = [],[],[],[]\n",
    "        year, month, day = [],[],[]\n",
    "        for row in datareader:    \n",
    "            year.append(int(row[0]))\n",
    "            month.append(int(row[1]))\n",
    "            day.append(int(row[2]))\n",
    "            lon.append(float(row[6]))\n",
    "            lat.append(float(row[7]))\n",
    "            dep.append(float(row[8]))\n",
    "            mag.append(float(row[9]))\n",
    "        eqcat.update({'year': year, 'month':month, 'day':day,\n",
    "                      'lon': lon, 'lat':lat, 'dep':dep,\n",
    "                  'mag':mag})\n",
    "        return eqcat"
   ]
  },
  {
   "cell_type": "code",
   "execution_count": 4,
   "id": "9bc60e98",
   "metadata": {},
   "outputs": [],
   "source": [
    "catalogues = ['NZeqcat_Rollins13042020-subd.csv',\n",
    "             'Grue_NZeqcat_Rollins13042020SepiShallow_subd.csv',\n",
    "             'Grue_NZeqcat_Rollins13042020SepiDeep-subd.csv',]\n",
    "folder_catalogue = '../data/eqcat/subduction_catalogs/'"
   ]
  },
  {
   "cell_type": "code",
   "execution_count": 5,
   "id": "d8c47e08",
   "metadata": {},
   "outputs": [
    {
     "data": {
      "image/png": "[encoded data removed]",
      "text/plain": [
       "<Figure size 432x288 with 1 Axes>"
      ]
     },
     "metadata": {
      "needs_background": "light"
     },
     "output_type": "display_data"
    }
   ],
   "source": [
    "tcat = read_catalogue(folder_catalogue+catalogues[0])\n",
    "plt.hist(tcat['dep']);"
   ]
  },
  {
   "cell_type": "code",
   "execution_count": 6,
   "id": "bbfb7c9e",
   "metadata": {},
   "outputs": [
    {
     "name": "stdout",
     "output_type": "stream",
     "text": [
      "*** The rogue 2003 Puysegur event is unslabbed!!! \n",
      ">>> FILE Exported: classified_catalogs/NZeqcat_Rollins13042020-subd-slab.csv\n",
      "*** The rogue 2003 Puysegur event is unslabbed!!! \n",
      ">>> FILE Exported: classified_catalogs/Grue_NZeqcat_Rollins13042020SepiShallow_subd-slab.csv\n",
      ">>> FILE Exported: classified_catalogs/Grue_NZeqcat_Rollins13042020SepiDeep-subd-slab.csv\n"
     ]
    }
   ],
   "source": [
    "fixed_parameters = { 'Hmax_interface': 80, # maximum depth\n",
    "                     'interface_buffer': [10, 10],\n",
    "                     'Hmax_crust': 40,\n",
    "                     'min_depth': 0,\n",
    "                     'max_depth': 500,}\n",
    "outfolder = 'classified_catalogs/'\n",
    "for catalog in catalogues:\n",
    "    eqcat = read_catalogue(folder_catalogue+catalog)\n",
    "                    \n",
    "    outfile = outfolder + catalog.split('.')[0] + '-slab.csv'\n",
    "    fout = open(outfile, 'w') \n",
    "    fout.write('year, month, day, lon, lat, dep, mag, isslab')\n",
    "    for lon, lat, dep, mag, yer, mon, dy \\\n",
    "             in zip(eqcat['lon'], eqcat['lat'], eqcat['dep'], \\\n",
    "                          eqcat['mag'], eqcat['year'], eqcat['month'], eqcat['day']):\n",
    "        if mag<3.0:\n",
    "            continue\n",
    "            \n",
    "        # trapped an event\n",
    "        if (yer==2003) & (mon==8) & (dy==21) & (mag>=7.0):\n",
    "            print('*** The rogue 2003 Puysegur event is unslabbed!!! ')\n",
    "            fout.write('\\n%d, %d, %d, %.4f, %.4f, %.4f, %.3f, 0' %(yer, mon, dy, lon, lat, dep, mag))\n",
    "            continue;\n",
    "        \n",
    "        if is_slabevent(lon, lat, dep, fixed_parameters = fixed_parameters):\n",
    "            fout.write('\\n%d, %d, %d, %.4f, %.4f, %.4f, %.3f, 1' %(yer, mon, dy, lon, lat, dep, mag))\n",
    "        else:\n",
    "            fout.write('\\n%d, %d, %d, %.4f, %.4f, %.4f, %.3f, 0' %(yer, mon, dy, lon, lat, dep, mag))\n",
    "        \n",
    "    fout.close()\n",
    "    print('>>> FILE Exported: ' + outfile)"
   ]
  },
  {
   "cell_type": "code",
   "execution_count": null,
   "id": "817b6fff",
   "metadata": {},
   "outputs": [],
   "source": []
  }
 ],
 "metadata": {
  "kernelspec": {
   "display_name": "Python 3 (ipykernel)",
   "language": "python",
   "name": "python3"
  },
  "language_info": {
   "codemirror_mode": {
    "name": "ipython",
    "version": 3
   },
   "file_extension": ".py",
   "mimetype": "text/x-python",
   "name": "python",
   "nbconvert_exporter": "python",
   "pygments_lexer": "ipython3",
   "version": "3.8.10"
  }
 },
 "nbformat": 4,
 "nbformat_minor": 5
}
